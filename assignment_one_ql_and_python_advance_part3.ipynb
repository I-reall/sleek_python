{
 "cells": [
  {
   "cell_type": "markdown",
   "metadata": {},
   "source": [
    "# Part3 : Connecting to Databases using Python and SQLite3\n"
   ]
  },
  {
   "cell_type": "markdown",
   "metadata": {},
   "source": [
    "## Exercise 6:\n",
    "The goal of this Exercise is to connect to SQL Database using Python. So, this\n",
    "exercise is to be solved exclusively using Anaconda /Jupyter Notebook. Do\n",
    "not use DB Browser!!!! Your answers are to be sent as a Jupyter Notebook\n",
    "file (.ipynb)"
   ]
  },
  {
   "cell_type": "markdown",
   "metadata": {},
   "source": [
    "1. Write a Python Statement that uses the sqlite3 module to connect to the\n",
    "Chinook database. It is called chinook.db"
   ]
  },
  {
   "cell_type": "code",
   "execution_count": null,
   "metadata": {},
   "outputs": [],
   "source": [
    "import sqlite3\n",
    "import pandas as pd\n",
    "\n",
    "# Establish the connection. We won't close it here because we want to use it in subsequent cells.\n",
    "connection = sqlite3.connect('chinook.db')\n"
   ]
  },
  {
   "cell_type": "markdown",
   "metadata": {},
   "source": [
    "2. Write a python function that takes as input your SQL queries and returns\n",
    "the result set as a pandas dataframe."
   ]
  },
  {
   "cell_type": "code",
   "execution_count": null,
   "metadata": {},
   "outputs": [],
   "source": [
    "\n",
    "def sql_to_dataframe(connection_string, query):\n",
    "    with sqlite3.connect(connection_string) as conn:\n",
    "        return pd.read_sql_query(query, conn)\n"
   ]
  },
  {
   "cell_type": "markdown",
   "metadata": {},
   "source": [
    "3. Provide a query showing Customers (just their full names, customer ID and\n",
    "country) who are not in the US."
   ]
  },
  {
   "cell_type": "code",
   "execution_count": null,
   "metadata": {},
   "outputs": [],
   "source": [
    "# SQL Query\n",
    "query = \"\"\"\n",
    "SELECT CustomerId, FirstName || ' ' || LastName AS FullName, Country\n",
    "FROM customers\n",
    "WHERE Country != 'USA';\n",
    "\"\"\"\n",
    "\n",
    "# Use the function to execute the query and get results in a DataFrame\n",
    "df = sql_to_dataframe('chinook.db', query)\n",
    "\n",
    "# Display the result\n",
    "df\n"
   ]
  },
  {
   "cell_type": "markdown",
   "metadata": {},
   "source": [
    "4. Provide a query only showing the Customers from Brazil"
   ]
  },
  {
   "cell_type": "code",
   "execution_count": null,
   "metadata": {},
   "outputs": [],
   "source": [
    "# SQL Query\n",
    "query = \"\"\"\n",
    "SELECT *\n",
    "FROM customers\n",
    "WHERE Country = 'Brazil';\n",
    "\"\"\"\n",
    "\n",
    "# Use the function to execute the query and get results in a DataFrame\n",
    "df = sql_to_dataframe('chinook.db', query)\n",
    "\n",
    "# Display the result\n",
    "df\n"
   ]
  },
  {
   "cell_type": "markdown",
   "metadata": {},
   "source": [
    "5. Provide a query showing the Invoices of customers who are from Brazil.\n",
    "The resultant table should show the customer's full name, Invoice ID, Date of\n",
    "the invoice and billing country."
   ]
  },
  {
   "cell_type": "code",
   "execution_count": null,
   "metadata": {},
   "outputs": [],
   "source": [
    "# SQL Query\n",
    "query = \"\"\"\n",
    "SELECT c.FirstName || ' ' || c.LastName AS FullName, \n",
    "       i.InvoiceId, \n",
    "       i.InvoiceDate, \n",
    "       i.BillingCountry\n",
    "FROM customers c\n",
    "JOIN invoices i ON c.CustomerId = i.CustomerId\n",
    "WHERE c.Country = 'Brazil';\n",
    "\"\"\"\n",
    "\n",
    "# Use the function to execute the query and get results in a DataFrame\n",
    "df = sql_to_dataframe('chinook.db', query)\n",
    "\n",
    "# Display the result\n",
    "df"
   ]
  },
  {
   "cell_type": "markdown",
   "metadata": {},
   "source": [
    "6. Provide a query showing only the Employees who are Sales Agents."
   ]
  },
  {
   "cell_type": "code",
   "execution_count": null,
   "metadata": {},
   "outputs": [],
   "source": [
    "# SQL Query \n",
    "\n",
    "query = \"\"\"\n",
    "SELECT *\n",
    "FROM employees\n",
    "WHERE Title = 'Sales Agent';\n",
    "\"\"\"\n",
    "\n",
    "# Use the function to execute the query and get results in a DataFrame\n",
    "df = sql_to_dataframe('chinook.db', query)\n",
    "\n",
    "# Display the result\n",
    "df\n",
    " # I'm not sure if this is a typo sir but if you're looking for `Sales Support Agent` then the oversight is on your end."
   ]
  },
  {
   "cell_type": "markdown",
   "metadata": {},
   "source": [
    "7. How many Invoices were there in 2009 and 2011? What are the respective\n",
    "total sales for each of those years?"
   ]
  },
  {
   "cell_type": "code",
   "execution_count": null,
   "metadata": {},
   "outputs": [],
   "source": [
    "# SQL Query\n",
    "query = \"\"\"\n",
    "SELECT strftime('%Y', InvoiceDate) AS Year, \n",
    "       COUNT(InvoiceId) AS NumberOfInvoices, \n",
    "       SUM(Total) AS TotalSales\n",
    "FROM invoices\n",
    "WHERE strftime('%Y', InvoiceDate) IN ('2009', '2011')\n",
    "GROUP BY strftime('%Y', InvoiceDate);\n",
    "\"\"\"\n",
    "\n",
    "# Use the function to execute the query and get results in a DataFrame\n",
    "df = sql_to_dataframe('chinook.db', query)\n",
    "\n",
    "# Display the result\n",
    "df\n"
   ]
  },
  {
   "cell_type": "markdown",
   "metadata": {},
   "source": [
    "8. Looking at the InvoiceLine table, provide a query that COUNTs the number\n",
    "of line items for Invoice ID 37"
   ]
  },
  {
   "cell_type": "code",
   "execution_count": null,
   "metadata": {},
   "outputs": [],
   "source": [
    "# SQL Query\n",
    "query = \"\"\"\n",
    "SELECT InvoiceId, COUNT(*) AS NumberOfLineItems\n",
    "FROM invoice_items\n",
    "WHERE InvoiceId = 37;\n",
    "\"\"\"\n",
    "\n",
    "# Use the function to execute the query and get results in a DataFrame\n",
    "df = sql_to_dataframe('chinook.db', query)\n",
    "\n",
    "# Display the result\n",
    "df"
   ]
  },
  {
   "cell_type": "markdown",
   "metadata": {},
   "source": [
    "9. Looking at the InvoiceLine table, provide a query that COUNTs the number\n",
    "of line items for each Invoice."
   ]
  },
  {
   "cell_type": "code",
   "execution_count": null,
   "metadata": {},
   "outputs": [],
   "source": [
    "# SQL Query\n",
    "query = \"\"\"\n",
    "SELECT InvoiceId, COUNT(*) AS NumberOfLineItems\n",
    "FROM invoice_items\n",
    "GROUP BY InvoiceId\n",
    "ORDER BY InvoiceId;\n",
    "\"\"\"\n",
    "\n",
    "# Use the function to execute the query and get results in a DataFrame\n",
    "df = sql_to_dataframe('chinook.db', query)\n",
    "\n",
    "# Display the result\n",
    "df"
   ]
  },
  {
   "cell_type": "markdown",
   "metadata": {},
   "source": [
    "10. Provide a query that includes the track name with each invoice line item."
   ]
  },
  {
   "cell_type": "code",
   "execution_count": null,
   "metadata": {},
   "outputs": [],
   "source": [
    "# SQL Query\n",
    "query = \"\"\"\n",
    "SELECT ii.InvoiceLineId, ii.InvoiceId, t.Name as TrackName, ii.UnitPrice, ii.Quantity\n",
    "FROM invoice_items ii\n",
    "JOIN tracks t ON ii.TrackId = t.TrackId\n",
    "ORDER BY ii.InvoiceLineId;\n",
    "\"\"\"\n",
    "\n",
    "# Use the function to execute the query and get results in a DataFrame\n",
    "df = sql_to_dataframe('chinook.db', query)\n",
    "\n",
    "# Display the result\n",
    "df"
   ]
  },
  {
   "cell_type": "code",
   "execution_count": null,
   "metadata": {},
   "outputs": [],
   "source": []
  }
 ],
 "metadata": {
  "kernelspec": {
   "display_name": "Python 3.9.13 ('sbcompp_cms-jFLYx5Zm')",
   "language": "python",
   "name": "python3"
  },
  "language_info": {
   "codemirror_mode": {
    "name": "ipython",
    "version": 3
   },
   "file_extension": ".py",
   "mimetype": "text/x-python",
   "name": "python",
   "nbconvert_exporter": "python",
   "pygments_lexer": "ipython3",
   "version": "3.9.13"
  },
  "orig_nbformat": 4,
  "vscode": {
   "interpreter": {
    "hash": "dea03218bd8b974b5e709ea831a8aea013d32924d8b75cf5bd9c9334367ef928"
   }
  }
 },
 "nbformat": 4,
 "nbformat_minor": 2
}
