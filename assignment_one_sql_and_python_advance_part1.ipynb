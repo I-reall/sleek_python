{
 "cells": [
  {
   "cell_type": "markdown",
   "metadata": {},
   "source": [
    "# Part1: Python Programming"
   ]
  },
  {
   "cell_type": "markdown",
   "metadata": {},
   "source": [
    "## Exercise 1: Social Media UserName\n",
    "A social media platform wants to generate a unique username for each new\n",
    "user. The username should be a combination of 8 characters, including 3 digits\n",
    "and 5 lowercase letters. Write a function called UsernameGenerator that\n",
    "takes no parameters and returns a unique username."
   ]
  },
  {
   "cell_type": "code",
   "execution_count": 2,
   "metadata": {},
   "outputs": [],
   "source": [
    "import random\n",
    "import string"
   ]
  },
  {
   "cell_type": "code",
   "execution_count": 3,
   "metadata": {},
   "outputs": [
    {
     "name": "stdout",
     "output_type": "stream",
     "text": [
      "unssi609\n"
     ]
    }
   ],
   "source": [
    "\n",
    "def UsernameGenerator():\n",
    "    # Generate 3 random digits\n",
    "    digits = ''.join(random.choices(string.digits, k=3))\n",
    "\n",
    "    # Generate 5 random lowercase letters\n",
    "    letters = ''.join(random.choices(string.ascii_lowercase, k=5))\n",
    "\n",
    "    # Combine and return the unique username\n",
    "    return letters + digits\n",
    "\n",
    "# Test the function\n",
    "print(UsernameGenerator())\n"
   ]
  },
  {
   "cell_type": "markdown",
   "metadata": {},
   "source": [
    "## Exercise 2: Gambling Scheme\n",
    "A gaming company wants to generate a unique password for each new user.\n",
    "The password should be a combination of 12 characters, including at least 1\n",
    "uppercase letter, 1 lowercase letter, 1 digit, and 1 special character. Write a\n",
    "function called PasswordGenerator that takes no parameters and returns a\n",
    "unique password."
   ]
  },
  {
   "cell_type": "code",
   "execution_count": 9,
   "metadata": {},
   "outputs": [
    {
     "name": "stdout",
     "output_type": "stream",
     "text": [
      "7:eZ!9Da\n"
     ]
    }
   ],
   "source": [
    "import random\n",
    "import string\n",
    "\n",
    "def PasswordGenerator():\n",
    "    # Generate 2 uppercase letters, 2 lowercase letters, 2 digits, and 2 special characters\n",
    "    upper = ''.join(random.choices(string.ascii_uppercase, k=2))\n",
    "    lower = ''.join(random.choices(string.ascii_lowercase, k=2))\n",
    "    digit = ''.join(random.choices(string.digits, k=2))\n",
    "    special = ''.join(random.choices(string.punctuation, k=2))\n",
    "\n",
    "    # Combine all the parts together\n",
    "    password = upper + lower + digit + special\n",
    "\n",
    "    # Shuffle the characters to ensure randomness\n",
    "    password = ''.join(random.sample(password, len(password)))\n",
    "\n",
    "    return password\n",
    "\n",
    "# Test the function\n",
    "print(PasswordGenerator())\n"
   ]
  },
  {
   "cell_type": "markdown",
   "metadata": {},
   "source": [
    "## Exercise 3: Gregorian to Ordinal Date\n",
    "An ordinal date consists of a year and a day within it, both of which are\n",
    "integers. The year can be any year in the Gregorian calendar while the day\n",
    "within the year ranges from one, which represents January 1, through to 365\n",
    "(or 366 if the year is a leap year) which represents December 31. Ordinal\n",
    "dates are convenient when computing differences between dates that are a\n",
    "specific number of days (rather than months). For example, ordinal dates can\n",
    "be used to easily determine whether a customer is within a 90 day return\n",
    "period, the sell-by date for a food-product based on its production date, and\n",
    "the due date for a baby. Write a function named ordinalDate that takes three\n",
    "integers as parameters. These parameters will be a day, month and year\n",
    "respectively. The function should return the day within the year for that date as\n",
    "its only result."
   ]
  },
  {
   "cell_type": "code",
   "execution_count": 12,
   "metadata": {},
   "outputs": [
    {
     "name": "stdout",
     "output_type": "stream",
     "text": [
      "365\n",
      "60\n"
     ]
    }
   ],
   "source": [
    "from datetime import datetime\n",
    "\n",
    "def ordinalDate(day, month, year):\n",
    "    # Create a datetime object for the given day, month, and year\n",
    "    date_obj = datetime(year, month, day)\n",
    "    \n",
    "    # Return the day of the year (ordinal date)\n",
    "    return date_obj.timetuple().tm_yday\n",
    "\n",
    "# Test the function\n",
    "print(ordinalDate(31, 12, 2021))  # Expected: 365 (since 2021 is not a leap year)\n",
    "print(ordinalDate(29, 2, 2020))   # Expected: 60 (since 2020 is a leap year)\n"
   ]
  },
  {
   "cell_type": "markdown",
   "metadata": {},
   "source": [
    "## Exercise 4: Fix the Password\n",
    "The CapeBank recently launched its new online Banking Application and\n",
    "wants to give a (by-default) password to each of its customers who register on\n",
    "the App. As their expert, they asked you to write a program that generates an 8\n",
    "characters password for each customer. The password should contain 2\n",
    "lowercase letters, 2 uppercase letters, 2 digits, and 2 punctuation signs\n",
    "not necessarily in order as we cited them. Your program should just ask the\n",
    "user to enter his/her name and the password is returned.\n",
    "Hint: You might want to use this command to get access to uppercase,\n",
    "lowercase, digits, and punctuation from the string module in Python.\n",
    "import string\n",
    "string.ascii_lowercase\n",
    "string.ascii_uppercase\n",
    "string.punctuation\n",
    "string.digits"
   ]
  },
  {
   "cell_type": "code",
   "execution_count": 14,
   "metadata": {},
   "outputs": [
    {
     "name": "stdout",
     "output_type": "stream",
     "text": [
      "Your password is: 7%fNKy9#\n"
     ]
    }
   ],
   "source": [
    "def generatePassword(name):\n",
    "    # Ensure user name is provided (even if not used in this solution, as the problem doesn't specify)\n",
    "    if not name:\n",
    "        return \"Please enter a valid name.\"\n",
    "    \n",
    "    # Generate 2 lowercase letters, 2 uppercase letters, 2 digits, and 2 punctuation signs\n",
    "    lower = ''.join(random.choices(string.ascii_lowercase, k=2))\n",
    "    upper = ''.join(random.choices(string.ascii_uppercase, k=2))\n",
    "    digit = ''.join(random.choices(string.digits, k=2))\n",
    "    special = ''.join(random.choices(string.punctuation, k=2))\n",
    "\n",
    "    # Combine all the parts together\n",
    "    password = lower + upper + digit + special\n",
    "\n",
    "    # Shuffle the characters to ensure randomness\n",
    "    password = ''.join(random.sample(password, len(password)))\n",
    "\n",
    "    return password\n",
    "\n",
    "# Ask user for their name and then generate a password\n",
    "user_name = input(\"Please enter your name: \")\n",
    "print(f\"Your password is: {generatePassword(user_name)}\")\n"
   ]
  }
 ],
 "metadata": {
  "kernelspec": {
   "display_name": "Python 3.9.13 ('sbcompp_cms-jFLYx5Zm')",
   "language": "python",
   "name": "python3"
  },
  "language_info": {
   "codemirror_mode": {
    "name": "ipython",
    "version": 3
   },
   "file_extension": ".py",
   "mimetype": "text/x-python",
   "name": "python",
   "nbconvert_exporter": "python",
   "pygments_lexer": "ipython3",
   "version": "3.10.8"
  },
  "orig_nbformat": 4,
  "vscode": {
   "interpreter": {
    "hash": "dea03218bd8b974b5e709ea831a8aea013d32924d8b75cf5bd9c9334367ef928"
   }
  }
 },
 "nbformat": 4,
 "nbformat_minor": 2
}
