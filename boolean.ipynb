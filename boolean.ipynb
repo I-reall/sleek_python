{
 "cells": [
  {
   "cell_type": "markdown",
   "metadata": {},
   "source": [
    "# Simplifying Boolean Logic in Python\n",
    "\n",
    "In this short tutorial, we are going to look at how we can simplify boolean logic in Python. This not only makes our code cleaner but also improves readability significantly.\n",
    "\n",
    "This lesson is inspired by insights shared by Antony from his coding tutorials, which can be found here: [Antonywritescode](https://www.youtube.com/watch?v=TJ_aGY6iyZY&list=PLWBKAf81pmOZPmmuiN109u1wzMmzXIZ11).\n"
   ]
  },
  {
   "cell_type": "markdown",
   "metadata": {},
   "source": [
    "## The Normal Use-Case\n",
    "\n",
    "Here is a typical function you might come across that uses a boolean return statement:\n"
   ]
  },
  {
   "cell_type": "code",
   "execution_count": null,
   "metadata": {},
   "outputs": [],
   "source": [
    "def f(x: int) -> bool:\n",
    "    return True if x == 1 else False"
   ]
  },
  {
   "cell_type": "markdown",
   "metadata": {},
   "source": [
    "### Simplification\n",
    "\n",
    "However, we can simplify this by returning the boolean expression directly. This is already a boolean value in Python:\n"
   ]
  },
  {
   "cell_type": "code",
   "execution_count": null,
   "metadata": {},
   "outputs": [],
   "source": [
    "def f(x: int) -> bool:\n",
    "    return x == 1"
   ]
  },
  {
   "cell_type": "markdown",
   "metadata": {},
   "source": [
    "### Verifying the Boolean Expression\n",
    "\n",
    "To confirm that `x == 1` is indeed a boolean expression, we can print its value.\n"
   ]
  },
  {
   "cell_type": "code",
   "execution_count": null,
   "metadata": {},
   "outputs": [],
   "source": [
    "x = 1\n",
    "print(x == 1)  # Output: True"
   ]
  },
  {
   "cell_type": "markdown",
   "metadata": {},
   "source": [
    "## Handling Edge Cases\n",
    "\n",
    "When dealing with nullable types, the function needs to handle `None` as a potential input. Here's how you can do it:\n"
   ]
  },
  {
   "cell_type": "code",
   "execution_count": null,
   "metadata": {},
   "outputs": [],
   "source": [
    "def f(x: int | None) -> bool:\n",
    "    return True if x == 1 else False"
   ]
  },
  {
   "cell_type": "markdown",
   "metadata": {},
   "source": [
    "### Improved Edge Case Handling\n",
    "\n",
    "An improved way to handle a `None` input is shown below, which avoids unnecessary boolean comparison:\n"
   ]
  },
  {
   "cell_type": "code",
   "execution_count": null,
   "metadata": {},
   "outputs": [],
   "source": [
    "def f(x: int | None) -> bool:\n",
    "    return bool(x)  # Note: This is not equivalent to the original check (x == 1)"
   ]
  },
  {
   "cell_type": "markdown",
   "metadata": {},
   "source": [
    "### Conclusion\n",
    "\n",
    "Remember, explicit is better than implicit. The `bool(x)` conversion makes it clear that we are returning a boolean value. However, be cautious: `bool(x)` is not the same as `x == 1` and should be used when the intent is to check for truthiness rather than equality to 1."
   ]
  }
 ],
 "metadata": {
  "kernelspec": {
   "display_name": "sleek_python-XfRCTp3w",
   "language": "python",
   "name": "python3"
  },
  "language_info": {
   "name": "python",
   "version": "3.10.8"
  }
 },
 "nbformat": 4,
 "nbformat_minor": 2
}
